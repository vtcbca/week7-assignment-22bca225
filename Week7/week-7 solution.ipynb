{
 "cells": [
  {
   "attachments": {},
   "cell_type": "markdown",
   "id": "5ce59af4",
   "metadata": {},
   "source": [
    "Create CSV file for product selling for 6 Months ( Prod_No | Prod_Name | Jan | Feb | Mar | Apr | May | Jun) for 5 products."
   ]
  },
  {
   "cell_type": "code",
   "execution_count": 12,
   "id": "08231323",
   "metadata": {},
   "outputs": [],
   "source": [
    "import csv"
   ]
  },
  {
   "cell_type": "code",
   "execution_count": 13,
   "id": "12e8d87c",
   "metadata": {},
   "outputs": [],
   "source": [
    "import pandas as pd"
   ]
  },
  {
   "cell_type": "code",
   "execution_count": 14,
   "id": "0bbcbc3c",
   "metadata": {},
   "outputs": [],
   "source": [
    " data = [\n",
    "     [1,\"Apple\",2400,4241,3242,4532,4500,3210],\n",
    "     [2,\"Banana\",3000,3300,4200,4500,4220,2200],\n",
    "     [3,\"Mango\",2100,2000,1000,2100,3200,1300],\n",
    "     [4,\"orange\",2000,4500,6700,2300,3000,3900],\n",
    "     [5,\"kivi\",4000,5400,2700,1230,4540,5410],\n",
    " ]\n"
   ]
  },
  {
   "cell_type": "code",
   "execution_count": 15,
   "id": "6b529224",
   "metadata": {},
   "outputs": [],
   "source": [
    "f=open(\"product.csv\",\"w\", newline=\"\")"
   ]
  },
  {
   "cell_type": "code",
   "execution_count": 16,
   "id": "013d614a",
   "metadata": {},
   "outputs": [],
   "source": [
    " w = csv.writer(f)"
   ]
  },
  {
   "cell_type": "code",
   "execution_count": 17,
   "id": "11aef0d1",
   "metadata": {},
   "outputs": [
    {
     "data": {
      "text/plain": [
       "43"
      ]
     },
     "execution_count": 17,
     "metadata": {},
     "output_type": "execute_result"
    }
   ],
   "source": [
    "w.writerow([\"Prod_No\", \"Prod_Name\", \"Jan\", \"Feb\", \"Mar\", \"Apr\", \"May\", \"Jun\"])"
   ]
  },
  {
   "cell_type": "code",
   "execution_count": 18,
   "id": "f65cdc02",
   "metadata": {},
   "outputs": [],
   "source": [
    "w.writerows(data)"
   ]
  },
  {
   "attachments": {},
   "cell_type": "markdown",
   "id": "966b92fe",
   "metadata": {},
   "source": [
    "# Perform following operations."
   ]
  },
  {
   "attachments": {},
   "cell_type": "markdown",
   "id": "ab46ed10",
   "metadata": {},
   "source": [
    "1. Add 12 Records. Take input from user."
   ]
  },
  {
   "cell_type": "code",
   "execution_count": 19,
   "id": "fbcbc454",
   "metadata": {},
   "outputs": [],
   "source": [
    "l=[]"
   ]
  },
  {
   "cell_type": "code",
   "execution_count": 20,
   "id": "6f76a71b",
   "metadata": {},
   "outputs": [
    {
     "name": "stdout",
     "output_type": "stream",
     "text": [
      "Enter Product Number: 11\n",
      "Enter Product Name: apple\n",
      "Enter January Sales: 3400\n",
      "Enter February Sales: 7700\n",
      "Enter March Sales: 5600\n",
      "Enter April Sales: 5460\n",
      "Enter May Sales: 4540\n",
      "Enter June Sales: 4560\n",
      "Enter Product Number: 12\n",
      "Enter Product Name: banana\n",
      "Enter January Sales: 345\n",
      "Enter February Sales: 345\n",
      "Enter March Sales: 365\n",
      "Enter April Sales: 2134\n",
      "Enter May Sales: 2310\n",
      "Enter June Sales: 1001\n",
      "Enter Product Number: 13\n",
      "Enter Product Name: kivi\n",
      "Enter January Sales: 5600\n",
      "Enter February Sales: 5460\n",
      "Enter March Sales: 3450\n",
      "Enter April Sales: 3450\n",
      "Enter May Sales: 3360\n",
      "Enter June Sales: 3460\n",
      "Enter Product Number: 14\n",
      "Enter Product Name: orange\n",
      "Enter January Sales: 3200\n",
      "Enter February Sales: 2340\n",
      "Enter March Sales: 1230\n",
      "Enter April Sales: 3240\n",
      "Enter May Sales: 4320\n",
      "Enter June Sales: 2340\n",
      "Enter Product Number: 15\n",
      "Enter Product Name: mouse\n",
      "Enter January Sales: 2340\n",
      "Enter February Sales: 1230\n",
      "Enter March Sales: 1238\n",
      "Enter April Sales: 1234\n",
      "Enter May Sales: 4590\n",
      "Enter June Sales: 5460\n",
      "Enter Product Number: 16\n",
      "Enter Product Name: laptop\n",
      "Enter January Sales: 3345\n",
      "Enter February Sales: 4560\n",
      "Enter March Sales: 4530\n",
      "Enter April Sales: 3234\n",
      "Enter May Sales: 1230\n",
      "Enter June Sales: 139\n",
      "Enter Product Number: 17\n",
      "Enter Product Name: tv\n",
      "Enter January Sales: 435\n",
      "Enter February Sales: 345\n",
      "Enter March Sales: 762\n",
      "Enter April Sales: 654\n",
      "Enter May Sales: 235\n",
      "Enter June Sales: 435\n",
      "Enter Product Number: 18\n",
      "Enter Product Name: mobile\n",
      "Enter January Sales: 3567\n",
      "Enter February Sales: 7896\n",
      "Enter March Sales: 23465\n",
      "Enter April Sales: 345\n",
      "Enter May Sales: 2354\n",
      "Enter June Sales: 674\n",
      "Enter Product Number: 19\n",
      "Enter Product Name: table\n",
      "Enter January Sales: 345\n",
      "Enter February Sales: 578\n",
      "Enter March Sales: 234\n",
      "Enter April Sales: 768\n",
      "Enter May Sales: 325\n",
      "Enter June Sales: 678\n",
      "Enter Product Number: 20\n",
      "Enter Product Name: fen\n",
      "Enter January Sales: 345\n",
      "Enter February Sales: 567\n",
      "Enter March Sales: 235\n",
      "Enter April Sales: 6798\n",
      "Enter May Sales: 345\n",
      "Enter June Sales: 879\n",
      "Enter Product Number: 21\n",
      "Enter Product Name: bag\n",
      "Enter January Sales: 345\n",
      "Enter February Sales: 78\n",
      "Enter March Sales: 234\n",
      "Enter April Sales: 678\n",
      "Enter May Sales: 234\n",
      "Enter June Sales: 578\n",
      "Enter Product Number: 22\n",
      "Enter Product Name: shoes\n",
      "Enter January Sales: 4325\n",
      "Enter February Sales: 2134\n",
      "Enter March Sales: 345\n",
      "Enter April Sales: 563\n",
      "Enter May Sales: 546\n",
      "Enter June Sales: 567\n"
     ]
    }
   ],
   "source": [
    "for i in range(12):\n",
    "    prod_no = input(\"Enter Product Number: \")\n",
    "    prod_name = input(\"Enter Product Name: \")\n",
    "    jan = int(input(\"Enter January Sales: \"))\n",
    "    feb = int(input(\"Enter February Sales: \"))\n",
    "    mar = int(input(\"Enter March Sales: \"))\n",
    "    apr = int(input(\"Enter April Sales: \"))\n",
    "    may = int(input(\"Enter May Sales: \"))\n",
    "    jun = int(input(\"Enter June Sales: \"))\n",
    "    t = [prod_no, prod_name, jan, feb, mar, apr, may, jun]\n",
    "    l.append(t)\n",
    "    "
   ]
  },
  {
   "cell_type": "raw",
   "id": "e005fdfc",
   "metadata": {},
   "source": []
  },
  {
   "cell_type": "code",
   "execution_count": 27,
   "id": "2bd417e1",
   "metadata": {},
   "outputs": [],
   "source": [
    "f=open(\"product.csv\",\"a\", newline=\"\")"
   ]
  },
  {
   "cell_type": "code",
   "execution_count": 28,
   "id": "4bdff190",
   "metadata": {},
   "outputs": [],
   "source": [
    " w = csv.writer(f)"
   ]
  },
  {
   "cell_type": "code",
   "execution_count": 29,
   "id": "49117ecb",
   "metadata": {},
   "outputs": [],
   "source": [
    "w.writerows(l)"
   ]
  },
  {
   "attachments": {},
   "cell_type": "markdown",
   "id": "e77e2c44",
   "metadata": {},
   "source": [
    "2. Create dataframe."
   ]
  },
  {
   "cell_type": "code",
   "execution_count": 31,
   "id": "44e07b50",
   "metadata": {},
   "outputs": [],
   "source": [
    "df = pd.read_csv(\"product.csv\")"
   ]
  },
  {
   "attachments": {},
   "cell_type": "markdown",
   "id": "2961eb78",
   "metadata": {},
   "source": [
    "3. Change Column Name Product No, Product Name, January, February, March, April, May, June."
   ]
  },
  {
   "cell_type": "code",
   "execution_count": 32,
   "id": "13bab9fe",
   "metadata": {},
   "outputs": [],
   "source": [
    "df.columns = [\"Product No\", \"Product Name\", \"January\", \"February\", \"March\", \"April\", \"May\", \"June\"]"
   ]
  },
  {
   "cell_type": "code",
   "execution_count": 33,
   "id": "ecb06c05",
   "metadata": {},
   "outputs": [
    {
     "name": "stdout",
     "output_type": "stream",
     "text": [
      "   Product No Product Name  January  February  March  April   May  June\n",
      "0           1        Apple     2400      4241   3242   4532  4500  3210\n",
      "1           2       Banana     3000      3300   4200   4500  4220  2200\n",
      "2           3        Mango     2100      2000   1000   2100  3200  1300\n",
      "3           4       orange     2000      4500   6700   2300  3000  3900\n",
      "4           5         kivi     4000      5400   2700   1230  4540  5410\n"
     ]
    }
   ],
   "source": [
    "print(df)"
   ]
  },
  {
   "attachments": {},
   "cell_type": "markdown",
   "id": "66cdff86",
   "metadata": {},
   "source": [
    "4. Add column \"Total Sell\" to count total of all month and \"Average Sell\""
   ]
  },
  {
   "cell_type": "code",
   "execution_count": 34,
   "id": "4692373b",
   "metadata": {},
   "outputs": [],
   "source": [
    "#df[\"Total Sell\"] = df.iloc[:, 2:].sum(axis=1)"
   ]
  },
  {
   "cell_type": "code",
   "execution_count": 36,
   "id": "959549d5",
   "metadata": {},
   "outputs": [],
   "source": [
    "#df[\"Average Sell\"] = df.iloc[:, 2:8].mean(axis=1)"
   ]
  },
  {
   "cell_type": "code",
   "execution_count": null,
   "id": "8e012546",
   "metadata": {},
   "outputs": [],
   "source": []
  },
  {
   "attachments": {},
   "cell_type": "markdown",
   "id": "5c23c49b",
   "metadata": {},
   "source": [
    "5. Add 2 row at the end."
   ]
  },
  {
   "cell_type": "code",
   "execution_count": 42,
   "id": "8e8b49f2",
   "metadata": {},
   "outputs": [],
   "source": [
    "new_rows = {'Product No': '', 'Product Name': '', 'January': '', 'February': '', 'March': '', 'April': '', 'May': '', 'June': ''}"
   ]
  },
  {
   "cell_type": "code",
   "execution_count": 63,
   "id": "4a73ecd8",
   "metadata": {},
   "outputs": [],
   "source": [
    "#for i in range(2):\n",
    "   # for column in rows:\n",
    "        # rows[column] = input(f\"Enter value for {column}: \")\n",
    "        #df = df.append(rows, ignore_index=True)\n",
    "       # df.reset_index(drop=True, inplace=True)\n"
   ]
  },
  {
   "cell_type": "code",
   "execution_count": null,
   "id": "e6d2e8bf",
   "metadata": {},
   "outputs": [],
   "source": []
  },
  {
   "attachments": {},
   "cell_type": "markdown",
   "id": "cca045cd",
   "metadata": {},
   "source": [
    "6. Add 2 row after 3rd row."
   ]
  },
  {
   "cell_type": "code",
   "execution_count": 46,
   "id": "c9e4d9ef",
   "metadata": {},
   "outputs": [],
   "source": [
    "header=['Product No', 'Product Name', 'January', 'February', 'March', 'April', 'May', 'June','Total','Average']"
   ]
  },
  {
   "cell_type": "code",
   "execution_count": 47,
   "id": "05667bd9",
   "metadata": {},
   "outputs": [],
   "source": [
    "df.loc[2.5] = [15, 'charger',120,728,746,425,374,202,260,4345.833]"
   ]
  },
  {
   "cell_type": "code",
   "execution_count": 48,
   "id": "5f4dc636",
   "metadata": {},
   "outputs": [],
   "source": [
    "df = df.sort_index().reset_index(drop=True)"
   ]
  },
  {
   "cell_type": "code",
   "execution_count": 49,
   "id": "c381dec7",
   "metadata": {},
   "outputs": [],
   "source": [
    "df.loc[3.5] = [16, 'projecter',110,118,220,225,226,221,1170,188.3]"
   ]
  },
  {
   "cell_type": "code",
   "execution_count": 50,
   "id": "a72cc821",
   "metadata": {},
   "outputs": [],
   "source": [
    "df = df.sort_index().reset_index(drop=True)\n"
   ]
  },
  {
   "cell_type": "code",
   "execution_count": 51,
   "id": "1d8b4489",
   "metadata": {},
   "outputs": [
    {
     "name": "stdout",
     "output_type": "stream",
     "text": [
      "   Product No Product Name  January  February  March  April   May  June  \\\n",
      "0           1        Apple     2400      4241   3242   4532  4500  3210   \n",
      "1           2       Banana     3000      3300   4200   4500  4220  2200   \n",
      "2           3        Mango     2100      2000   1000   2100  3200  1300   \n",
      "3          15      charger      120       728    746    425   374   202   \n",
      "4          16    projecter      110       118    220    225   226   221   \n",
      "5           4       orange     2000      4500   6700   2300  3000  3900   \n",
      "6           5         kivi     4000      5400   2700   1230  4540  5410   \n",
      "\n",
      "   Total Sell  Average Sell  \n",
      "0       22125   3687.500000  \n",
      "1       21420   3570.000000  \n",
      "2       11700   1950.000000  \n",
      "3         260   4345.833000  \n",
      "4        1170    188.300000  \n",
      "5       22400   3733.333333  \n",
      "6       23280   3880.000000  \n"
     ]
    }
   ],
   "source": [
    "print(df)"
   ]
  },
  {
   "attachments": {},
   "cell_type": "markdown",
   "id": "9366d1f1",
   "metadata": {},
   "source": [
    "7. Print first 5 row.\n"
   ]
  },
  {
   "cell_type": "code",
   "execution_count": 52,
   "id": "90616f7f",
   "metadata": {},
   "outputs": [
    {
     "name": "stdout",
     "output_type": "stream",
     "text": [
      "   Product No Product Name  January  February  March  April   May  June  \\\n",
      "0           1        Apple     2400      4241   3242   4532  4500  3210   \n",
      "1           2       Banana     3000      3300   4200   4500  4220  2200   \n",
      "2           3        Mango     2100      2000   1000   2100  3200  1300   \n",
      "3          15      charger      120       728    746    425   374   202   \n",
      "4          16    projecter      110       118    220    225   226   221   \n",
      "\n",
      "   Total Sell  Average Sell  \n",
      "0       22125      3687.500  \n",
      "1       21420      3570.000  \n",
      "2       11700      1950.000  \n",
      "3         260      4345.833  \n",
      "4        1170       188.300  \n"
     ]
    }
   ],
   "source": [
    "print(df.head())"
   ]
  },
  {
   "attachments": {},
   "cell_type": "markdown",
   "id": "09607baf",
   "metadata": {},
   "source": [
    "8. Print Last 5 row."
   ]
  },
  {
   "cell_type": "code",
   "execution_count": 53,
   "id": "d8c705ce",
   "metadata": {},
   "outputs": [
    {
     "name": "stdout",
     "output_type": "stream",
     "text": [
      "   Product No Product Name  January  February  March  April   May  June  \\\n",
      "2           3        Mango     2100      2000   1000   2100  3200  1300   \n",
      "3          15      charger      120       728    746    425   374   202   \n",
      "4          16    projecter      110       118    220    225   226   221   \n",
      "5           4       orange     2000      4500   6700   2300  3000  3900   \n",
      "6           5         kivi     4000      5400   2700   1230  4540  5410   \n",
      "\n",
      "   Total Sell  Average Sell  \n",
      "2       11700   1950.000000  \n",
      "3         260   4345.833000  \n",
      "4        1170    188.300000  \n",
      "5       22400   3733.333333  \n",
      "6       23280   3880.000000  \n"
     ]
    }
   ],
   "source": [
    "print(df.tail())"
   ]
  },
  {
   "attachments": {},
   "cell_type": "markdown",
   "id": "8223e1ff",
   "metadata": {},
   "source": [
    "9. Print row 6 to 10."
   ]
  },
  {
   "cell_type": "code",
   "execution_count": 54,
   "id": "dd05e685",
   "metadata": {},
   "outputs": [
    {
     "name": "stdout",
     "output_type": "stream",
     "text": [
      "   Product No Product Name  January  February  March  April   May  June  \\\n",
      "5           4       orange     2000      4500   6700   2300  3000  3900   \n",
      "6           5         kivi     4000      5400   2700   1230  4540  5410   \n",
      "\n",
      "   Total Sell  Average Sell  \n",
      "5       22400   3733.333333  \n",
      "6       23280   3880.000000  \n"
     ]
    }
   ],
   "source": [
    "print(df.iloc[5:10])"
   ]
  },
  {
   "attachments": {},
   "cell_type": "markdown",
   "id": "a05c1671",
   "metadata": {},
   "source": [
    "10. Print only product name."
   ]
  },
  {
   "cell_type": "code",
   "execution_count": 55,
   "id": "a456c270",
   "metadata": {},
   "outputs": [
    {
     "name": "stdout",
     "output_type": "stream",
     "text": [
      "0        Apple\n",
      "1       Banana\n",
      "2        Mango\n",
      "3      charger\n",
      "4    projecter\n",
      "5       orange\n",
      "6         kivi\n",
      "Name: Product Name, dtype: object\n"
     ]
    }
   ],
   "source": [
    "print(df[\"Product Name\"])\n"
   ]
  },
  {
   "attachments": {},
   "cell_type": "markdown",
   "id": "726ca1c6",
   "metadata": {},
   "source": [
    "11. Print sell of January month with product id and product name."
   ]
  },
  {
   "cell_type": "code",
   "execution_count": 56,
   "id": "6e0f4e01",
   "metadata": {},
   "outputs": [
    {
     "name": "stdout",
     "output_type": "stream",
     "text": [
      "   Product No Product Name  January\n",
      "0           1        Apple     2400\n",
      "1           2       Banana     3000\n",
      "2           3        Mango     2100\n",
      "3          15      charger      120\n",
      "4          16    projecter      110\n",
      "5           4       orange     2000\n",
      "6           5         kivi     4000\n"
     ]
    }
   ],
   "source": [
    "print(df[[\"Product No\", \"Product Name\", \"January\"]])"
   ]
  },
  {
   "attachments": {},
   "cell_type": "markdown",
   "id": "f6a64577",
   "metadata": {},
   "source": [
    "12. Print only those product id , product name where january sell is > 5000 and February sell is >8000"
   ]
  },
  {
   "cell_type": "code",
   "execution_count": 57,
   "id": "055e8fe7",
   "metadata": {},
   "outputs": [
    {
     "name": "stdout",
     "output_type": "stream",
     "text": [
      "Empty DataFrame\n",
      "Columns: [Product No, Product Name]\n",
      "Index: []\n"
     ]
    }
   ],
   "source": [
    "print(df[(df[\"January\"] > 5000) & (df[\"February\"] > 8000)][[\"Product No\", \"Product Name\"]])"
   ]
  },
  {
   "attachments": {},
   "cell_type": "markdown",
   "id": "eb7bfb6d",
   "metadata": {},
   "source": [
    "13. Print record in sorting order of Product name."
   ]
  },
  {
   "cell_type": "code",
   "execution_count": 58,
   "id": "9eeba4eb",
   "metadata": {},
   "outputs": [
    {
     "name": "stdout",
     "output_type": "stream",
     "text": [
      "   Product No Product Name  January  February  March  April   May  June  \\\n",
      "0           1        Apple     2400      4241   3242   4532  4500  3210   \n",
      "1           2       Banana     3000      3300   4200   4500  4220  2200   \n",
      "2           3        Mango     2100      2000   1000   2100  3200  1300   \n",
      "3          15      charger      120       728    746    425   374   202   \n",
      "6           5         kivi     4000      5400   2700   1230  4540  5410   \n",
      "5           4       orange     2000      4500   6700   2300  3000  3900   \n",
      "4          16    projecter      110       118    220    225   226   221   \n",
      "\n",
      "   Total Sell  Average Sell  \n",
      "0       22125   3687.500000  \n",
      "1       21420   3570.000000  \n",
      "2       11700   1950.000000  \n",
      "3         260   4345.833000  \n",
      "6       23280   3880.000000  \n",
      "5       22400   3733.333333  \n",
      "4        1170    188.300000  \n"
     ]
    }
   ],
   "source": [
    "print(df.sort_values(\"Product Name\"))"
   ]
  },
  {
   "attachments": {},
   "cell_type": "markdown",
   "id": "eab4b88b",
   "metadata": {},
   "source": [
    " 14. Display only odd index number column records"
   ]
  },
  {
   "cell_type": "code",
   "execution_count": 59,
   "id": "852c211d",
   "metadata": {},
   "outputs": [
    {
     "name": "stdout",
     "output_type": "stream",
     "text": [
      "  Product Name  February  April  June  Average Sell\n",
      "0        Apple      4241   4532  3210   3687.500000\n",
      "1       Banana      3300   4500  2200   3570.000000\n",
      "2        Mango      2000   2100  1300   1950.000000\n",
      "3      charger       728    425   202   4345.833000\n",
      "4    projecter       118    225   221    188.300000\n",
      "5       orange      4500   2300  3900   3733.333333\n",
      "6         kivi      5400   1230  5410   3880.000000\n"
     ]
    }
   ],
   "source": [
    "print(df.iloc[:, 1::2])"
   ]
  },
  {
   "attachments": {},
   "cell_type": "markdown",
   "id": "bcc03695",
   "metadata": {},
   "source": [
    "15. Display alternate row.\n"
   ]
  },
  {
   "cell_type": "code",
   "execution_count": 60,
   "id": "e4f40b55",
   "metadata": {},
   "outputs": [
    {
     "name": "stdout",
     "output_type": "stream",
     "text": [
      "   Product No Product Name  January  February  March  April   May  June  \\\n",
      "1           2       Banana     3000      3300   4200   4500  4220  2200   \n",
      "3          15      charger      120       728    746    425   374   202   \n",
      "5           4       orange     2000      4500   6700   2300  3000  3900   \n",
      "\n",
      "   Total Sell  Average Sell  \n",
      "1       21420   3570.000000  \n",
      "3         260   4345.833000  \n",
      "5       22400   3733.333333  \n"
     ]
    }
   ],
   "source": [
    "print(df.iloc[1::2,])\n",
    "\n"
   ]
  },
  {
   "cell_type": "code",
   "execution_count": null,
   "id": "0b6f46e2",
   "metadata": {},
   "outputs": [],
   "source": []
  }
 ],
 "metadata": {
  "kernelspec": {
   "display_name": "Python 3 (ipykernel)",
   "language": "python",
   "name": "python3"
  },
  "language_info": {
   "codemirror_mode": {
    "name": "ipython",
    "version": 3
   },
   "file_extension": ".py",
   "mimetype": "text/x-python",
   "name": "python",
   "nbconvert_exporter": "python",
   "pygments_lexer": "ipython3",
   "version": "3.10.10"
  }
 },
 "nbformat": 4,
 "nbformat_minor": 5
}
